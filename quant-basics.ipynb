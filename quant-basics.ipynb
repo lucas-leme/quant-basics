{
 "cells": [
  {
   "cell_type": "markdown",
   "metadata": {},
   "source": [
    "# Quant basics\n",
    "\n",
    "Bem vindo ao projetinho do Turing Quant!\n",
    "\n",
    "Neste notebook você aprenderá os seguinte assuntos:\n",
    "\n",
    "- Importação e visualização de dados financeiros\n",
    "- Retornos e Risco de um ativo\n",
    "- Análise de portfólios\n",
    "- Previsão de Series Temporais"
   ]
  },
  {
   "cell_type": "markdown",
   "metadata": {},
   "source": [
    "## 1. Importação de dataset de preço histórico\n",
    "\n",
    "Para a importação de dados existem diversas bibliotecas em python que fornem preços históricos de ativos\n",
    "\n",
    "Dentre elas podemos citar as seguinte plataformas:\n",
    "\n",
    "- Google Finance (Via panda_datareader)\n",
    "- Yahoo Finace (Via panda_datareader ou yfinance)\n",
    "- Quandl\n",
    "\n",
    "Pesquise sobre como importar dados nessas bibliotecas. Os datasets que conseguimos com essas bibliotecas são denominados OHLCV (open-high-low-close-volume).\n",
    "\n",
    "- Plote os preços de fechamento\n",
    "- Plote um gráfico de vela (Candlestick)\n",
    "- Faça uma simples análise qualitativa do ativo escolhido (Ex: porque ele teve grande variação em algum momento)"
   ]
  },
  {
   "cell_type": "code",
   "execution_count": null,
   "metadata": {},
   "outputs": [],
   "source": [
    "# Escreva seu código aqui!"
   ]
  },
  {
   "cell_type": "markdown",
   "metadata": {},
   "source": [
    "## Análise qualitativa\n",
    "\n",
    "Responda aqui no markdown..."
   ]
  },
  {
   "cell_type": "markdown",
   "metadata": {},
   "source": [
    "# 2. Retorno e Risco\n",
    "\n",
    "Essencialmente, a natureza do Mercado Financeiro é baseada em um certo nível de retorno (a variação do seu investimento) para um dado nível de risco (o quão provável é esse retorno). Há uma série de maneiras para mensurar o risco, mas geralmente elas estão ligadas à volatilidade do ativo, que, em sua forma mais simples, é o desvio padrão dos preços em um dado período.\n",
    "\n",
    "Com o mesmo ativo que você importou anteriormente, iremos iniciar os calculos de risco e retorno. Porém inicialmente iremos analisar retorno e risco com o preço de fechamento."
   ]
  },
  {
   "cell_type": "markdown",
   "metadata": {},
   "source": [
    "## Retorno\n",
    "\n",
    "Existem algumas maneiras de se calcular o retorno de uma série temporal, aqui podemos citar duas:\n",
    "\n",
    "- Retorno Simples: $R_t = (P_t - P_{t-1})/P_{t-1} = P_t/P_{t-1} - 1$\n",
    "- Retorno Logaritmo: $r_t = log(P_t/P{t-1}) = log(P_t) - log(P_{t-1})$\n",
    "\n",
    "Sendo $P_t$ o preço no tempo t, e $P_{t-1}$ preço no tempo $t-1$ (Dia anterior).\n",
    "\n",
    "Manipulando o dataframe implemente esse dois tipos de retonos e compare-os\n",
    "\n",
    "Calcule os retornos cumulativos deles\n",
    "\n",
    "- Retorno Cumulatvo: $R_{cum} = (1+R_t) * (1+R_{t-1}) * ... * (1+R_{t-n}) $\n",
    "\n",
    "#### Recomendação: Na medida do possível minimize a utilização de `for` loops, e tente usar numpy para realizar os cálculos de forma vetorizada, o que torna os cálculos muito mais eficientes."
   ]
  },
  {
   "cell_type": "code",
   "execution_count": null,
   "metadata": {},
   "outputs": [],
   "source": [
    "# Escreva seu código aqui"
   ]
  },
  {
   "cell_type": "markdown",
   "metadata": {},
   "source": [
    "# Risco\n",
    "\n",
    "Há diversos tipo de definições de risco, em finança quantitativas uma maneira bem fácil de calcular o risco é a partir da variação do ativo. Basicamente, você não quer investir num ativo que varia muito, ou seja, muito imprevisível. Uma maneira estátistica de cálcular essa volatilidade é a partir do desvio padrão.\n",
    "\n",
    "- Calcule o desvio padrão do ativo\n",
    "\n",
    "Apenas o valor do desvio padrão não apresenta muita informação, então iremos calcular o rolling std. Básicamente iremos calcular o desvio padrão a cada t intervalo de tempo.\n",
    "\n",
    "- Calcule o rolling std\n",
    "\n",
    "Dica: utilize o método ```pandas.rolling(window).std()``` do pandas, window é o intervalo em que você irá calcular o desvio padrão\n",
    "\n",
    "- Calcule o desvio padrão exponencial móvel (EWMA)\n",
    "\n",
    "### Desafio\n",
    "\n",
    "- Calcule o desvio padrão estimado pelo High e Low ([Parkinson Number](https://www.ivolatility.com/help/3.html))\n",
    "<img src=\"https://miro.medium.com/proxy/0*t4hSod9UQhA3Lsmz.png\">\n",
    "\n",
    "- Calcule o desvio padrão estimado por High, Low, Close e Open ([Garman-Klass](https://portfolioslab.com/garman-klass))\n",
    "\n",
    "<img src=\"https://miro.medium.com/max/1400/0*S6HDttTDL2p0GCC2.png\">\n",
    "\n",
    "Temos uma breve explicação desses estimadores de volatilidade em nosso Turing Talks: [Construindo uma Estratégia de Investimentos Quantitativa — Time Series Momentum](https://medium.com/turing-talks/construindo-uma-estrat%C3%A9gia-de-investimentos-quantitativa-time-series-momentum-7e60a40636bd)"
   ]
  },
  {
   "cell_type": "code",
   "execution_count": null,
   "metadata": {},
   "outputs": [],
   "source": [
    "# Escreva seu código aqui"
   ]
  },
  {
   "cell_type": "markdown",
   "metadata": {},
   "source": [
    "# 3. Lidando com portfolios\n",
    " \n",
    "Notebook de auxilio (crie uma conta no quantopian): https://www.quantopian.com/lectures/introduction-to-numpy\n",
    "\n",
    "Agora que você já aprendeu como importar preços históricos e como calcular o risco e retorno de ativos, podemos usar esse conhecimento para começar a montar o nosso portfolio!\n",
    "\n",
    "Nessa etapa, você irá montar uma carteira com 4 ações diferentes. \n",
    " - Use o que você aprendeu nas etapas anteriores para construir um dataframe com 4 ativos diferentes junto com os seus respectivos **dados históricos de fechamento**.\n",
    " \n",
    "Em seguida, você precisa distribuir a porcentagem que cada ativo da sua carteira receberá dos seus investimentos. Em finanças, chamamos isso de [pesos de um portfolio](https://www.investopedia.com/terms/p/portfolio-weight.asp)\n",
    " - Atribua pesos ($w$) para cada um dos ativos que estão na sua carteira (Ele devem somar 1) . Ex: w = [0.3, 0.3, 0.2, 0.2]\n",
    "\n",
    "## Retorno\n",
    "\n",
    "Agora, você pode calcular o **retorno** do seu portfolio. \n",
    "\n",
    "O retorno para um período é dado pela seguinte fórmula: $R = \\vec{r} \\times \\vec{w}$\n",
    "\n",
    "Onde $\\vec{r}$ é o vetor de retornos de cada ativo da carteira, e $\\vec{w}$ os seus respectivos pesos.\n",
    "\n",
    "- Calcule o retorno para cada dia da série temporal\n",
    "\n",
    "- Faça um gráfico para visualizar os **retornos cumulativos** do seu portfolio e compare com algum benchmark (EX: IBOV). "
   ]
  },
  {
   "cell_type": "code",
   "execution_count": null,
   "metadata": {
    "scrolled": true
   },
   "outputs": [],
   "source": [
    "# Escreva seu código aqui"
   ]
  },
  {
   "cell_type": "markdown",
   "metadata": {},
   "source": [
    "## Risco\n",
    "\n",
    "Para calcular um **risco** de um portfolio precisamos levar em conta as correlações entre todos os ativos. Para isso calcularemos a matriz de covariaças $C$ (```pandas.cov()``` ou ```np.cov()```).\n",
    "\n",
    "A equação do risco de uma portfólio é dada pela seguinte fórmula: $\\sigma = \\sqrt{\\vec{w}C\\vec{w}^\\mathsf{T}}$, sendo $T$ a tranposição de um array \n",
    "\n",
    "- Calcule o risco de 3 portfólios (varie o vetor de pesos)."
   ]
  },
  {
   "cell_type": "code",
   "execution_count": null,
   "metadata": {},
   "outputs": [],
   "source": [
    "# Escreva seu código aqui"
   ]
  },
  {
   "cell_type": "markdown",
   "metadata": {},
   "source": [
    "## Teoria Moderna de Portifolio - Markowitz \n",
    "\n",
    "https://campus.datacamp.com/courses/introduction-to-portfolio-analysis-in-r/optimizing-the-portfolio?ex=7\n",
    "\n",
    "Markowitz também conhecido como efficient frontier, é uma maneira de otimizar uma carteira de investimentos. Para isso simula-se diversas pesos, e para cada peso é calculado seu retorno esperado e risco. Pesquise sobre [sharpe ratio](https://www.investopedia.com/terms/s/sharperatio.asp) para realizar o degrade de cores.\n",
    "\n",
    "<img src=\"https://www.pythonforfinance.net/wp-content/uploads/2017/01/efffront-1.png\">"
   ]
  },
  {
   "cell_type": "code",
   "execution_count": null,
   "metadata": {},
   "outputs": [],
   "source": [
    "# Escreva seu código aqui"
   ]
  },
  {
   "cell_type": "markdown",
   "metadata": {},
   "source": [
    "## Deep Markowitz\n",
    "\n",
    "Nesta etapa você deverá construir um modelo de machine learning para predizer o portfólio com maior sharpe ratio. Para isso iremos fornecer um dataset com os retornos anuais de 4 ativos e o respectivo peso do portfólio mais otimizado (maior sharpe ratio).\n",
    "\n",
    "- feature.csv: Input do modelo, cada linha contém os retornos dos 4 ativos em apenas uma linha (shape = (30000,1004 )), se quiser converter para o formato de matriz utilize o método ```np.reshape(251, 4)```\n",
    "\n",
    "- target.csv: Output do modelo, vetor com 4 valores, que são os pesos de cada ativo da carteira de investimentos. \n",
    "\n",
    "<img src=\"./images/markowitz_NN.png\">\n",
    "\n",
    "Sendo o Real: a saída do input, Markowitz: segunda interação com (5000 carteiras), e ML: a predição do modelo\n"
   ]
  },
  {
   "cell_type": "code",
   "execution_count": null,
   "metadata": {},
   "outputs": [],
   "source": [
    "# Escreva seu código aqui"
   ]
  },
  {
   "cell_type": "markdown",
   "metadata": {},
   "source": [
    "# 4. Previsão de Time Series\n",
    "\n",
    "## Cross validation em Séries Temporais\n",
    "\n",
    "Sempre que lidamos com algoritmos de machine learning, para treiná-lo temos que separar os datasets em treino e em teste. Em séries temporais não podemos separar os dados aleatoriamente, pois a ordem no tempo importa! Portanto, seguimos a seguinte separação:\n",
    "\n",
    "<img src=\"https://habrastorage.org/files/f5c/7cd/b39/f5c7cdb39ccd4ba68378ca232d20d864.png\"/>\n",
    "\n",
    "# _Feature Engineering_ em Série Temporal\n",
    "\n",
    "Para inserir machine learning em séries temporais, precisamos efetuar o processo conhecido como feature engineering, que é básicamente escolher as entradas de nosso modelo.\n",
    "\n",
    "## Lags\n",
    "Os dados mais simples que podemos inserir no nosso modelo são os valores passados.\n",
    "Se deslocarmos (com a função `.shift(i)`) a série temporal em $i$ vezes, conseguimos estabelecer uma feature onde o valor atual no tempo $t$ é alinhado com um valor no tempo $t-i$. Chamamos isso de _lag_, ou atraso na série temporal. Isso é bastante útil, por exemplo, para estratégias baseadas em um valor histórico de uma feature.\n",
    "\n",
    "- Realize o feature engineering e teste alguns modelos de ML (Ex: Regressão linear, ARIMA, Decision Tree, Random Forest, Redes Neurais, etc...)\n",
    "- Faça um gráfico comparando os valores reais e preditos pelo modelo, durante um determinado período.\n",
    "Ex:\n",
    "<img width=\"400\" height=\"500\" src=\"https://miro.medium.com/max/1000/1*NvhZBDp5jNX-5Qd4LT7FEw.png\">"
   ]
  },
  {
   "cell_type": "code",
   "execution_count": null,
   "metadata": {},
   "outputs": [],
   "source": [
    "# Escreva seu código aqui"
   ]
  },
  {
   "cell_type": "markdown",
   "metadata": {},
   "source": [
    "# LSTM\n",
    "\n",
    "E por fim te desafiamos a implementar uma arquitetura de redes neurais para séries temporais, a LSTM. Podem tomar como referência esse notebook, podem copiar o código, o intuito dessa etapa é que vocês tenham um contato com Deep Learning. (https://drive.google.com/file/d/1uagMXYRMJTdMJwoQbQD5LVfrYj4aUuSF/view?usp=sharing)"
   ]
  },
  {
   "cell_type": "code",
   "execution_count": null,
   "metadata": {},
   "outputs": [],
   "source": [
    "# Escreva seu código aqui"
   ]
  }
 ],
 "metadata": {
  "kernelspec": {
   "display_name": "Python 3",
   "language": "python",
   "name": "python3"
  },
  "language_info": {
   "codemirror_mode": {
    "name": "ipython",
    "version": 3
   },
   "file_extension": ".py",
   "mimetype": "text/x-python",
   "name": "python",
   "nbconvert_exporter": "python",
   "pygments_lexer": "ipython3",
   "version": "3.7.7"
  }
 },
 "nbformat": 4,
 "nbformat_minor": 2
}
