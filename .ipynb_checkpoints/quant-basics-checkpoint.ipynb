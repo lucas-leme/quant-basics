{
 "cells": [
  {
   "cell_type": "markdown",
   "metadata": {},
   "source": [
    "# Quant basics\n",
    "\n",
    "Bem vindo ao projetinho do Turing Quant!\n",
    "\n",
    "Neste notebook você aprenderá os seguinte assuntos:\n",
    "\n",
    "- Importação de dataset de preço históricos\n",
    "- Retornos e Risco (Volatilidade)\n",
    "- Lidando com portfolios\n",
    "- Predição de Series Temporais\n",
    "- Implementação TSMOM"
   ]
  },
  {
   "cell_type": "markdown",
   "metadata": {},
   "source": [
    "## 1. Importação de dataset de preço histórico\n",
    "\n",
    "Para a importação de dados existem diversas bibliotecas em python que fornem preços históricos de ativos\n",
    "\n",
    "Detre elas podemos citar as seguinte plataformas:\n",
    "\n",
    "- Google Finance (Via panda_datareader)\n",
    "- Yahoo Finace (Via panda_datareader)\n",
    "- Quandl\n",
    "\n",
    "Pesquise sobre como importar dados nessas bibliotecas. Os dataset que consiguimos com essas bibliotecas são denominados OHLCV (open-high-low-close-volume).\n",
    "\n",
    "- Plote os preços de fechamento\n",
    "- Plote um gráfico de vela\n",
    "- Faça uma simples analise qualitativa do ativo escolhido (Ex: porque ele teve grande variação em algum momento)"
   ]
  },
  {
   "cell_type": "code",
   "execution_count": null,
   "metadata": {},
   "outputs": [],
   "source": [
    "# importando biliotecas para manipulação, calculo e plotagem\n",
    "import pandas as pd\n",
    "import numpy as np\n",
    "import matplotlib.pyplot as plt"
   ]
  },
  {
   "cell_type": "code",
   "execution_count": null,
   "metadata": {},
   "outputs": [],
   "source": [
    "from pandas_datareader import data\n",
    "\n",
    "# Importando dataset de preços da apple\n",
    "df = data.DataReader (\"IBM\",\n",
    "                        start='2014-1-1',\n",
    "                        end='2020-4-22',\n",
    "                        data_source='yahoo')"
   ]
  },
  {
   "cell_type": "code",
   "execution_count": null,
   "metadata": {},
   "outputs": [],
   "source": [
    "df.head()"
   ]
  },
  {
   "cell_type": "code",
   "execution_count": null,
   "metadata": {},
   "outputs": [],
   "source": [
    "df_close = df[\"Close\"]\n",
    "\n",
    "plt.figure(figsize=(16,9))\n",
    "\n",
    "plt.plot(df_close)\n",
    "\n",
    "plt.title(\"Preço históricos da Petrobras\")\n",
    "plt.ylabel(\"Preço\")\n",
    "plt.xlabel(\"Data\")\n",
    "\n",
    "plt.show()\n"
   ]
  },
  {
   "cell_type": "code",
   "execution_count": null,
   "metadata": {},
   "outputs": [],
   "source": [
    "import plotly.graph_objects as go\n",
    "\n",
    "fig = go.Figure(data=[go.Candlestick(x=df.index,\n",
    "                                     open=df[\"Open\"],\n",
    "                                     high=df[\"High\"],\n",
    "                                     low=df[\"Low\"],\n",
    "                                     close=df[\"Close\"])])\n",
    "\n",
    "fig.show()"
   ]
  },
  {
   "cell_type": "markdown",
   "metadata": {},
   "source": [
    "## Análise qualitativa\n",
    "\n",
    "Responda aqui no markdown..."
   ]
  },
  {
   "cell_type": "markdown",
   "metadata": {},
   "source": [
    "# 2. Retorno e Risco\n",
    "\n",
    "Inserir intro"
   ]
  },
  {
   "cell_type": "markdown",
   "metadata": {},
   "source": [
    "Com o mesmo ativo que você importou anteriormente, iremos inicial os calculos de risco e retorno. Porém inicialmente iremos analisar retorno e risco com o preço de fechamento.\n",
    "\n",
    "Há duas maneiras de se calcular o retorno de uma série temporal\n",
    "\n",
    "- Retorno Simples: $R_t = (P_t - P_{t-1})/P_{t-1} = P_t/P_{t-1} - 1$\n",
    "- Retorno Logaritmo: $r_t = log(P_t/P{t-1}) = log(P_t) - log(P_{t-1})$\n",
    "\n",
    "Sendo $P_t$ o preço no tempo t, e $P_{t-1}$ preço no tempo $t-1$ (Dia anterior).\n",
    "\n",
    "Manipulando o dataframe implemente esse dois tipos de retonos e compare-os\n",
    "\n",
    "Calcule os retornos cumulativos deles\n",
    "\n",
    "- Retorno Cumulatvo: $R_{cum} = (1+R_t) * (1+R_{t-1})$\n",
    "\n",
    "#### Recomendação: Na medida do possível minimize a utilização de for loops, sempre tente usar numpy para os cálculos, pois essa biblioteca é muito eficiente"
   ]
  },
  {
   "cell_type": "code",
   "execution_count": null,
   "metadata": {},
   "outputs": [],
   "source": [
    "R_simple = np.divide(df_close, df_close.shift(-1)) -1\n",
    "r_log = np.log(np.divide(df_close, df_close.shift(-1)))\n",
    "\n",
    "plt.plot(R_simple)\n",
    "plt.title(\"Retornos simples\")\n",
    "plt.show()\n",
    "\n",
    "plt.plot(r_log)\n",
    "plt.title(\"Retornos logaritmos\")\n",
    "plt.show()"
   ]
  },
  {
   "cell_type": "code",
   "execution_count": null,
   "metadata": {},
   "outputs": [],
   "source": [
    "plt.plot((1+R_simple).cumprod())\n",
    "plt.title(\"Retornos cumulativos simples\")\n",
    "plt.show()\n",
    "\n",
    "plt.plot((1+r_log).cumprod())\n",
    "plt.title(\"Retornos cumulativo logaritmos\")\n",
    "plt.show()"
   ]
  },
  {
   "cell_type": "markdown",
   "metadata": {},
   "source": [
    "# Risco\n",
    "\n",
    "Há diversos tipo de definições de risco, em finança quantitativas uma maneira bem fácil de calcular o risco é a partir da variação do ativo. Básicamento você não quer investir num ativo que varia muito, ou seja, muito imprevisivel. Uma maneira estátistica de cálcular a essa volatilidade é a partir do desvio padrão.\n",
    "\n",
    "- Calcule o desvio padrão do ativo\n",
    "\n",
    "Apenas o valor do desvio padrão não apresenta muita informação, então iremos calcular o rolling std. Básicamente iremos calcular o desvio padrão a cada t intervalo de tempo.\n",
    "\n",
    "- Calcule o rolling std\n",
    "\n",
    "Dica: utilize o método ```pandas.rolling(window).std()``` do pandas, window é o intervalo em que você irá calcular o desvio padrão\n",
    "\n",
    "### Desafio\n",
    "\n",
    "- Calcule o desvio padrão exponencial (EWMA)\n",
    "- Calcule o desvio padrão estimado pelo High e Low (Parkinson Number)\n",
    "- Calcule o desvio padrão estimado por High, Low, Close e Open (Garman-Klass)"
   ]
  },
  {
   "cell_type": "code",
   "execution_count": null,
   "metadata": {},
   "outputs": [],
   "source": [
    "df_close.std()"
   ]
  },
  {
   "cell_type": "code",
   "execution_count": null,
   "metadata": {},
   "outputs": [],
   "source": [
    "df_close.rolling(20).std().plot()"
   ]
  },
  {
   "cell_type": "code",
   "execution_count": null,
   "metadata": {},
   "outputs": [],
   "source": [
    "df_close.ewm(20).std().plot()"
   ]
  },
  {
   "cell_type": "code",
   "execution_count": null,
   "metadata": {},
   "outputs": [],
   "source": [
    "def parkinson_vol(high_df, low_df, period=60):\n",
    "\n",
    "    x = np.log(np.divide(high_df, low_df)) ** 2\n",
    "\n",
    "    pv = x.copy()\n",
    "\n",
    "    const = 1 / (4 * period * np.log(2))\n",
    "\n",
    "    pv.iloc[:period] = np.nan\n",
    "\n",
    "    for row in range(period, len(high_df)):\n",
    "        pv.iloc[row] = np.sqrt(const * np.sum(x.iloc[row-period:row]))\n",
    "\n",
    "    return pv\n",
    "\n",
    "parkinson = parkinson_vol(df[\"High\"], df[\"Low\"], 20)\n",
    "parkinson.plot()"
   ]
  },
  {
   "cell_type": "code",
   "execution_count": null,
   "metadata": {},
   "outputs": [],
   "source": [
    "def garman_klass_vol(high_df, low_df, close_df, open_df, period=60):\n",
    "\n",
    "    x_hl = (1/2)*(np.log(np.divide(high_df, low_df))) ** 2\n",
    "    x_co = - (2 * np.log(2) - 1) * \\\n",
    "        (np.log(np.divide(close_df, open_df))**2)\n",
    "\n",
    "    x = x_hl + x_co.values\n",
    "\n",
    "    gk = x.copy()\n",
    "\n",
    "    const = 1/period\n",
    "\n",
    "    gk.iloc[:period] = np.nan\n",
    "\n",
    "    for row in range(period, len(high_df)):\n",
    "        gk.iloc[row] = np.sqrt(const * np.sum(x.iloc[row-period:row]))\n",
    "\n",
    "    return gk\n",
    "\n",
    "garman_klass = garman_klass_vol(df[\"High\"], df[\"Low\"], df[\"Close\"], df[\"Open\"], 20)\n",
    "garman_klass.plot()"
   ]
  }
 ],
 "metadata": {
  "kernelspec": {
   "display_name": ".quantenv",
   "language": "python",
   "name": ".quantenv"
  },
  "language_info": {
   "codemirror_mode": {
    "name": "ipython",
    "version": 3
   },
   "file_extension": ".py",
   "mimetype": "text/x-python",
   "name": "python",
   "nbconvert_exporter": "python",
   "pygments_lexer": "ipython3",
   "version": "3.6.5"
  }
 },
 "nbformat": 4,
 "nbformat_minor": 2
}
